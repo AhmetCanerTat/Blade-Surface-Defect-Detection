{
 "cells": [
  {
   "cell_type": "code",
   "execution_count": 1,
   "id": "b50c73a6",
   "metadata": {},
   "outputs": [],
   "source": [
    "import torch\n",
    "from torch import nn\n",
    "from torch.utils.data import DataLoader\n",
    "from torchinfo import summary\n",
    "from torchmetrics import Accuracy\n",
    "from torchvision import datasets\n",
    "from torchvision.transforms import ToTensor\n",
    "\n",
    "import mlflow"
   ]
  },
  {
   "cell_type": "code",
   "execution_count": 2,
   "id": "bc9d5950",
   "metadata": {},
   "outputs": [],
   "source": [
    "training_data = datasets.FashionMNIST(\n",
    "  root=\"data\",\n",
    "  train=True,\n",
    "  download=True,\n",
    "  transform=ToTensor(),\n",
    ")\n",
    "\n",
    "test_data = datasets.FashionMNIST(\n",
    "  root=\"data\",\n",
    "  train=False,\n",
    "  download=True,\n",
    "  transform=ToTensor(),\n",
    ")"
   ]
  },
  {
   "cell_type": "code",
   "execution_count": 3,
   "id": "cf80fec9",
   "metadata": {},
   "outputs": [
    {
     "name": "stdout",
     "output_type": "stream",
     "text": [
      "Image size: torch.Size([1, 28, 28])\n",
      "Size of training dataset: 60000\n",
      "Size of test dataset: 10000\n"
     ]
    }
   ],
   "source": [
    "print(f\"Image size: {training_data[0][0].shape}\")\n",
    "print(f\"Size of training dataset: {len(training_data)}\")\n",
    "print(f\"Size of test dataset: {len(test_data)}\")"
   ]
  },
  {
   "cell_type": "code",
   "execution_count": 4,
   "id": "ae47dea1",
   "metadata": {},
   "outputs": [],
   "source": [
    "train_dataloader = DataLoader(training_data, batch_size=64,num_workers=0)\n",
    "test_dataloader = DataLoader(test_data, batch_size=64,num_workers=0)\n"
   ]
  },
  {
   "cell_type": "code",
   "execution_count": 5,
   "id": "c7d96374",
   "metadata": {},
   "outputs": [],
   "source": [
    "class ImageClassifier(nn.Module):\n",
    "  def __init__(self):\n",
    "      super().__init__()\n",
    "      self.model = nn.Sequential(\n",
    "          nn.Conv2d(1, 8, kernel_size=3),\n",
    "          nn.ReLU(),\n",
    "          nn.Conv2d(8, 16, kernel_size=3),\n",
    "          nn.ReLU(),\n",
    "          nn.Flatten(),\n",
    "          nn.LazyLinear(10),  # 10 classes in total.\n",
    "      )\n",
    "\n",
    "  def forward(self, x):\n",
    "      return self.model(x)"
   ]
  },
  {
   "cell_type": "code",
   "execution_count": 6,
   "id": "61c4bf64",
   "metadata": {},
   "outputs": [
    {
     "data": {
      "text/plain": [
       "<Experiment: artifact_location='mlflow-artifacts:/613627314193825433', creation_time=1756888004599, experiment_id='613627314193825433', last_update_time=1756888883686, lifecycle_stage='active', name='mlflow-pytorch-quickstart', tags={}>"
      ]
     },
     "execution_count": 6,
     "metadata": {},
     "output_type": "execute_result"
    }
   ],
   "source": [
    "import os\n",
    "\n",
    "mlflow.set_tracking_uri(\"http://127.0.0.1:8080\")\n",
    "os.environ['MLFLOW_TRACKING_USERNAME'] = 'name'\n",
    "os.environ['MLFLOW_TRACKING_PASSWORD'] = 'pass'\n",
    "mlflow.set_experiment(\"mlflow-pytorch-quickstart\")\n"
   ]
  },
  {
   "cell_type": "code",
   "execution_count": 7,
   "id": "33c59333",
   "metadata": {},
   "outputs": [],
   "source": [
    "device = torch.device(\"mps\" if torch.backends.mps.is_available() else \"cpu\")\n",
    "\n",
    "def train(dataloader, model, loss_fn, metrics_fn, optimizer, epoch):\n",
    "  \"\"\"Train the model on a single pass of the dataloader.\n",
    "\n",
    "  Args:\n",
    "      dataloader: an instance of `torch.utils.data.DataLoader`, containing the training data.\n",
    "      model: an instance of `torch.nn.Module`, the model to be trained.\n",
    "      loss_fn: a callable, the loss function.\n",
    "      metrics_fn: a callable, the metrics function.\n",
    "      optimizer: an instance of `torch.optim.Optimizer`, the optimizer used for training.\n",
    "      epoch: an integer, the current epoch number.\n",
    "  \"\"\"\n",
    "  model.train()\n",
    "  for batch, (X, y) in enumerate(dataloader):\n",
    "      X = X.to(device)\n",
    "      y = y.to(device)\n",
    "\n",
    "      pred = model(X)\n",
    "      loss = loss_fn(pred, y)\n",
    "      accuracy = metrics_fn(pred, y)\n",
    "\n",
    "      # Backpropagation.\n",
    "      loss.backward()\n",
    "      optimizer.step()\n",
    "      optimizer.zero_grad()\n",
    "\n",
    "      if batch % 100 == 0:\n",
    "          loss_value = loss.item()\n",
    "          current = batch\n",
    "          step = batch // 100 * (epoch + 1)\n",
    "          mlflow.log_metric(\"loss\", f\"{loss_value:2f}\", step=step)\n",
    "          mlflow.log_metric(\"accuracy\", f\"{accuracy:2f}\", step=step)\n",
    "          print(f\"loss: {loss_value:2f} accuracy: {accuracy:2f} [{current} / {len(dataloader)}]\")"
   ]
  },
  {
   "cell_type": "code",
   "execution_count": 8,
   "id": "1d592680",
   "metadata": {},
   "outputs": [],
   "source": [
    "def evaluate(dataloader, model, loss_fn, metrics_fn, epoch):\n",
    "  \"\"\"Evaluate the model on a single pass of the dataloader.\n",
    "\n",
    "  Args:\n",
    "      dataloader: an instance of `torch.utils.data.DataLoader`, containing the eval data.\n",
    "      model: an instance of `torch.nn.Module`, the model to be trained.\n",
    "      loss_fn: a callable, the loss function.\n",
    "      metrics_fn: a callable, the metrics function.\n",
    "      epoch: an integer, the current epoch number.\n",
    "  \"\"\"\n",
    "  num_batches = len(dataloader)\n",
    "  model.eval()\n",
    "  eval_loss = 0\n",
    "  eval_accuracy = 0\n",
    "  with torch.no_grad():\n",
    "      for X, y in dataloader:\n",
    "          X = X.to(device)\n",
    "          y = y.to(device)\n",
    "          pred = model(X)\n",
    "          eval_loss += loss_fn(pred, y).item()\n",
    "          eval_accuracy += metrics_fn(pred, y)\n",
    "\n",
    "  eval_loss /= num_batches\n",
    "  eval_accuracy /= num_batches\n",
    "  mlflow.log_metric(\"eval_loss\", f\"{eval_loss:2f}\", step=epoch)\n",
    "  mlflow.log_metric(\"eval_accuracy\", f\"{eval_accuracy:2f}\", step=epoch)\n",
    "\n",
    "  print(f\"Eval metrics: Accuracy: {eval_accuracy:.2f}, Avg loss: {eval_loss:2f}\")"
   ]
  },
  {
   "cell_type": "code",
   "execution_count": 9,
   "id": "c285bc76",
   "metadata": {},
   "outputs": [],
   "source": [
    "epochs = 3\n",
    "loss_fn = nn.CrossEntropyLoss()\n",
    "metric_fn = Accuracy(task=\"multiclass\", num_classes=10).to(device)\n",
    "model = ImageClassifier().to(device)\n",
    "optimizer = torch.optim.SGD(model.parameters(), lr=1e-3)"
   ]
  },
  {
   "cell_type": "code",
   "execution_count": 10,
   "id": "e37ee301",
   "metadata": {},
   "outputs": [
    {
     "name": "stdout",
     "output_type": "stream",
     "text": [
      "Epoch 1-------------------------------\n",
      "loss: 2.296156 accuracy: 0.109375 [0 / 938]\n",
      "loss: 2.025807 accuracy: 0.500000 [100 / 938]\n",
      "loss: 1.547872 accuracy: 0.703125 [200 / 938]\n",
      "loss: 1.282949 accuracy: 0.578125 [300 / 938]\n",
      "loss: 0.949073 accuracy: 0.687500 [400 / 938]\n",
      "loss: 0.881768 accuracy: 0.703125 [500 / 938]\n",
      "loss: 0.867905 accuracy: 0.718750 [600 / 938]\n",
      "loss: 0.710541 accuracy: 0.765625 [700 / 938]\n",
      "loss: 0.765847 accuracy: 0.718750 [800 / 938]\n",
      "loss: 0.790817 accuracy: 0.750000 [900 / 938]\n",
      "Eval metrics: Accuracy: 0.75, Avg loss: 0.715142\n",
      "Epoch 2-------------------------------\n",
      "loss: 0.664400 accuracy: 0.812500 [0 / 938]\n",
      "loss: 0.751565 accuracy: 0.703125 [100 / 938]\n",
      "loss: 0.486596 accuracy: 0.843750 [200 / 938]\n",
      "loss: 0.768619 accuracy: 0.734375 [300 / 938]\n",
      "loss: 0.692129 accuracy: 0.640625 [400 / 938]\n",
      "loss: 0.671169 accuracy: 0.765625 [500 / 938]\n",
      "loss: 0.702956 accuracy: 0.687500 [600 / 938]\n",
      "loss: 0.630668 accuracy: 0.796875 [700 / 938]\n",
      "loss: 0.675652 accuracy: 0.718750 [800 / 938]\n",
      "loss: 0.659343 accuracy: 0.718750 [900 / 938]\n",
      "Eval metrics: Accuracy: 0.77, Avg loss: 0.635056\n",
      "Epoch 3-------------------------------\n",
      "loss: 0.544853 accuracy: 0.812500 [0 / 938]\n",
      "loss: 0.635312 accuracy: 0.750000 [100 / 938]\n",
      "loss: 0.421801 accuracy: 0.843750 [200 / 938]\n",
      "loss: 0.694589 accuracy: 0.718750 [300 / 938]\n",
      "loss: 0.651404 accuracy: 0.656250 [400 / 938]\n",
      "loss: 0.625135 accuracy: 0.781250 [500 / 938]\n",
      "loss: 0.641551 accuracy: 0.734375 [600 / 938]\n",
      "loss: 0.622772 accuracy: 0.781250 [700 / 938]\n",
      "loss: 0.679191 accuracy: 0.718750 [800 / 938]\n",
      "loss: 0.589146 accuracy: 0.765625 [900 / 938]\n",
      "Eval metrics: Accuracy: 0.77, Avg loss: 0.616988\n"
     ]
    },
    {
     "name": "stderr",
     "output_type": "stream",
     "text": [
      "\u001b[31m2025/09/03 11:47:06 WARNING mlflow.models.model: Model logged without a signature and input example. Please set `input_example` parameter when logging the model to auto infer the model signature.\u001b[0m\n"
     ]
    },
    {
     "name": "stdout",
     "output_type": "stream",
     "text": [
      "🏃 View run powerful-sloth-810 at: http://127.0.0.1:8080/#/experiments/613627314193825433/runs/c17d71980b9143c2a88d652aeb79310b\n",
      "🧪 View experiment at: http://127.0.0.1:8080/#/experiments/613627314193825433\n"
     ]
    }
   ],
   "source": [
    "with mlflow.start_run() as run:\n",
    "  params = {\n",
    "      \"epochs\": epochs,\n",
    "      \"learning_rate\": 1e-3,\n",
    "      \"batch_size\": 64,\n",
    "      \"loss_function\": loss_fn.__class__.__name__,\n",
    "      \"metric_function\": metric_fn.__class__.__name__,\n",
    "      \"optimizer\": \"SGD\",\n",
    "  }\n",
    "  # Log training parameters.\n",
    "  mlflow.log_params(params)\n",
    "\n",
    "  # Log model summary.\n",
    "  with open(\"model_summary.txt\", \"w\") as f:\n",
    "      f.write(str(summary(model)))\n",
    "  mlflow.log_artifact(\"model_summary.txt\")\n",
    "\n",
    "  for t in range(epochs):\n",
    "      print(f\"Epoch {t + 1}-------------------------------\")\n",
    "      train(train_dataloader, model, loss_fn, metric_fn, optimizer, epoch=t)\n",
    "      evaluate(test_dataloader, model, loss_fn, metric_fn, epoch=0)\n",
    "\n",
    "  # Save the trained model to MLflow.\n",
    "  model_info = mlflow.pytorch.log_model(model, name=\"model\")"
   ]
  }
 ],
 "metadata": {
  "kernelspec": {
   "display_name": "internship",
   "language": "python",
   "name": "python3"
  },
  "language_info": {
   "codemirror_mode": {
    "name": "ipython",
    "version": 3
   },
   "file_extension": ".py",
   "mimetype": "text/x-python",
   "name": "python",
   "nbconvert_exporter": "python",
   "pygments_lexer": "ipython3",
   "version": "3.10.18"
  }
 },
 "nbformat": 4,
 "nbformat_minor": 5
}
